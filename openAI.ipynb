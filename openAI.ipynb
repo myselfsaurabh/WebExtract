{
 "cells": [
  {
   "cell_type": "code",
   "execution_count": 1,
   "metadata": {},
   "outputs": [],
   "source": [
    "import requests\n",
    "from bs4 import BeautifulSoup\n",
    "import os\n",
    "from langchain.text_splitter import RecursiveCharacterTextSplitter\n",
    "from langchain.vectorstores import Chroma\n",
    "from langchain.embeddings import HuggingFaceEmbeddings\n",
    "from langchain.chains import RetrievalQA\n",
    "from langchain_ollama import OllamaLLM\n"
   ]
  },
  {
   "cell_type": "code",
   "execution_count": 2,
   "metadata": {},
   "outputs": [],
   "source": [
    "def get_links(url):\n",
    "    \"\"\"Extract all documentation links from the main API page.\"\"\"\n",
    "    response = requests.get(url)\n",
    "    if response.status_code != 200:\n",
    "        print(f\"Failed to fetch {url}\")\n",
    "        return []\n",
    "\n",
    "    soup = BeautifulSoup(response.text, \"html.parser\")\n",
    "    \n",
    "    # Extract relevant API documentation links\n",
    "    links = []\n",
    "    for a_tag in soup.find_all(\"a\", href=True):\n",
    "        href = a_tag[\"href\"]\n",
    "        if href.startswith(\"/deployment-manager/docs/\"):\n",
    "            links.append(BASE_URL + href)\n",
    "\n",
    "    return list(set(links))  # Remove duplicates"
   ]
  },
  {
   "cell_type": "code",
   "execution_count": 3,
   "metadata": {},
   "outputs": [],
   "source": [
    "def get_page_content(url):\n",
    "    \"\"\"Extract text content from a given page.\"\"\"\n",
    "    response = requests.get(url)\n",
    "    if response.status_code != 200:\n",
    "        print(f\"Failed to fetch {url}\")\n",
    "        return \"\"\n",
    "\n",
    "    soup = BeautifulSoup(response.text, \"html.parser\")\n",
    "\n",
    "    # Extract text from paragraphs and code blocks\n",
    "    content = []\n",
    "    for tag in soup.find_all([\"p\", \"pre\", \"code\"]):\n",
    "        content.append(tag.get_text(strip=True))\n",
    "\n",
    "    return \"\\n\".join(content)"
   ]
  },
  {
   "cell_type": "code",
   "execution_count": 5,
   "metadata": {},
   "outputs": [],
   "source": [
    "# 🔹 Base URLs\n",
    "BASE_URL = \"https://cloud.google.com\"\n",
    "DOCS_URL = \"https://cloud.google.com/deployment-manager/docs/apis\""
   ]
  },
  {
   "cell_type": "code",
   "execution_count": null,
   "metadata": {},
   "outputs": [],
   "source": [
    "# 🔹 Step 1: Get all API documentation links\n",
    "doc_links = get_links(DOCS_URL)\n",
    "\n",
    "# 🔹 Step 2: Crawl each page and extract content\n",
    "api_docs = {}\n",
    "for link in doc_links:\n",
    "    print(f\"Fetching: {link}\")\n",
    "    api_docs[link] = get_page_content(link)\n",
    "\n",
    "# 🔹 Step 3: Save extracted data to a file\n",
    "with open(\"deployment_manager_docs.txt\", \"w\", encoding=\"utf-8\") as f:\n",
    "    for url, content in api_docs.items():\n",
    "        f.write(f\"### URL: {url}\\n{content}\\n\\n\")\n",
    "\n",
    "# 🔹 Step 4: Load extracted text\n",
    "with open(\"deployment_manager_docs.txt\", \"r\", encoding=\"utf-8\") as f:\n",
    "    raw_text = f.read()"
   ]
  },
  {
   "cell_type": "code",
   "execution_count": null,
   "metadata": {},
   "outputs": [],
   "source": [
    "from sentence_transformers import SentenceTransformer\n",
    "model = SentenceTransformer('sentence-transformers/all-MiniLM-L6-v2')\n",
    "model.save(\"local_model\")"
   ]
  },
  {
   "cell_type": "code",
   "execution_count": null,
   "metadata": {},
   "outputs": [],
   "source": [
    "# 🔹 Step 5: Split text into chunks\n",
    "splitter = RecursiveCharacterTextSplitter(chunk_size=1000, chunk_overlap=100)\n",
    "chunks = splitter.split_text(raw_text)\n",
    "\n",
    "# 🔹 Step 6: Store embeddings in ChromaDB (Fixing persistence issue)\n",
    "embedding_function = HuggingFaceEmbeddings(model_name=\"sentence-transformers/all-MiniLM-L6-v2\")\n",
    "\n",
    "# Create and persist the vectorstore\n",
    "vectorstore = Chroma.from_texts(chunks, embedding=embedding_function, persist_directory=\"./gcp_deployment_vectorstore\")\n",
    "vectorstore.persist()"
   ]
  },
  {
   "cell_type": "code",
   "execution_count": 10,
   "metadata": {},
   "outputs": [],
   "source": [
    "retriever = vectorstore.as_retriever()"
   ]
  },
  {
   "cell_type": "code",
   "execution_count": null,
   "metadata": {},
   "outputs": [],
   "source": [
    "llm = OllamaLLM(model=\"mistral:instruct\")\n",
    "\n",
    "# 🔹 Step 9: Create the RAG Chain\n",
    "qa_chain = RetrievalQA.from_chain_type(llm=llm, chain_type=\"stuff\", retriever=retriever)\n",
    "\n",
    "# 🔹 Step 10: Query the RAG system\n",
    "query = \"Write 10 test cases which include 5 positive, 3 negative and 2 edge case scenarios for a v2 API deployment delete HTTP request\"\n",
    "response = qa_chain.invoke(query)\n",
    "\n",
    "print(\"\\n🔹 AI Response:\\n\", response)"
   ]
  }
 ],
 "metadata": {
  "kernelspec": {
   "display_name": "Python 3",
   "language": "python",
   "name": "python3"
  },
  "language_info": {
   "codemirror_mode": {
    "name": "ipython",
    "version": 3
   },
   "file_extension": ".py",
   "mimetype": "text/x-python",
   "name": "python",
   "nbconvert_exporter": "python",
   "pygments_lexer": "ipython3",
   "version": "3.12.7"
  }
 },
 "nbformat": 4,
 "nbformat_minor": 2
}
